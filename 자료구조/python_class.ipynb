{
 "cells": [
  {
   "cell_type": "markdown",
   "id": "634ab219",
   "metadata": {},
   "source": [
    "# Class와 상속에 관한 정리\n",
    "\n"
   ]
  },
  {
   "cell_type": "code",
   "execution_count": 2,
   "id": "dd3ed12f",
   "metadata": {},
   "outputs": [],
   "source": [
    "class JSS:\n",
    "    def __init__(self):\n",
    "        self.name = input(\"이름을 입력 : \")\n",
    "        self.age = input(\"나이를 입력 : \")\n",
    "    def show(self):\n",
    "        print(\"나의 이름은 {}, 나이는 {}세 입니다.\".format(self.name,self.age))"
   ]
  },
  {
   "cell_type": "code",
   "execution_count": 3,
   "id": "ca1a008c",
   "metadata": {},
   "outputs": [],
   "source": [
    "class JSS2(JSS):\n",
    "    def __init__(self):\n",
    "        super().__init__()\n",
    "        self.gender = input(\"성별:\")      \n",
    "    def show(self):\n",
    "        print(\"나의 이름은 {}, 나이는 {}세, 성별은{} 입니다.\".format(self.name,self.age, self.gender))"
   ]
  },
  {
   "cell_type": "code",
   "execution_count": 4,
   "id": "128a86f4",
   "metadata": {},
   "outputs": [
    {
     "name": "stdout",
     "output_type": "stream",
     "text": [
      "이름을 입력 : 김민교\n",
      "나이를 입력 : 13\n",
      "성별:남자\n"
     ]
    }
   ],
   "source": [
    "a = JSS2()"
   ]
  },
  {
   "cell_type": "code",
   "execution_count": 5,
   "id": "1455a4a9",
   "metadata": {},
   "outputs": [
    {
     "name": "stdout",
     "output_type": "stream",
     "text": [
      "나의 이름은 김민교, 나이는 13세, 성별은남자 입니다.\n"
     ]
    }
   ],
   "source": [
    "a.show()"
   ]
  }
 ],
 "metadata": {
  "kernelspec": {
   "display_name": "Python 3",
   "language": "python",
   "name": "python3"
  },
  "language_info": {
   "codemirror_mode": {
    "name": "ipython",
    "version": 3
   },
   "file_extension": ".py",
   "mimetype": "text/x-python",
   "name": "python",
   "nbconvert_exporter": "python",
   "pygments_lexer": "ipython3",
   "version": "3.8.8"
  }
 },
 "nbformat": 4,
 "nbformat_minor": 5
}
