{
 "cells": [
  {
   "cell_type": "markdown",
   "id": "dfa5f8e1",
   "metadata": {},
   "source": [
    "# liked list(연결 리스트)\n",
    "\n",
    "▶ 연결 리스트, 메모리 효율을 위해 많이 사용됨(간단하게 구현한 연결 리스트가 일반적인 자료형보다 훨씬 가볍다)\n",
    "\n",
    "▶ Data field, Link field\n",
    "\n",
    "▶ visualgo(https://visualgo.net/ko) 라는 사이트에 들어가서 실행화면을 보면 좋음!"
   ]
  },
  {
   "cell_type": "markdown",
   "id": "1adfb114",
   "metadata": {},
   "source": [
    "### append, pop, find 구현"
   ]
  },
  {
   "cell_type": "code",
   "execution_count": 1,
   "id": "088e9fe8",
   "metadata": {},
   "outputs": [],
   "source": [
    "class Node:\n",
    "    def __init__(self, data):\n",
    "        self.data = data\n",
    "        self.next = None\n",
    "\n",
    "        \n",
    "class LinkedList:\n",
    "    def __init__(self):\n",
    "        init = Node('init')\n",
    "        self.head = init\n",
    "        self.tail = init\n",
    "        \n",
    "        self.현재노드 = None\n",
    "        self.데이터수 = 0\n",
    "    \n",
    "   \n",
    "    def __len__(self): # len(l)메소드를 사용하면 에러나는 것을 def__len__ 매직 메서드로 구현\n",
    "        return self.데이터수\n",
    "    \n",
    "    \n",
    "    def __str__(self):\n",
    "        \n",
    "        현재노드 = self.head\n",
    "        현재노드 = 현재노드.next\n",
    "        s = ''\n",
    "        for i in range(self.데이터수):\n",
    "            s += f'{현재노드.data}, '\n",
    "            현재노드 = 현재노드.next\n",
    "        return f'[{s[:-2]}]'\n",
    "     \n",
    "        \n",
    "    def append(self, data):\n",
    "        새로운노드 = Node(data)\n",
    "        self.tail.next = 새로운노드\n",
    "        self.tail = 새로운노드\n",
    "        self.데이터수 += 1\n",
    "        \n",
    "        \n",
    "    def pop(self):\n",
    "        마지막값 = self.tail.data\n",
    "        현재노드 = self.head\n",
    "        \n",
    "        for i in range(self.데이터수):\n",
    "            if 현재노드.next is self.tail:\n",
    "                self.tail = 현재노드\n",
    "                break \n",
    "            현재노드 = 현재노드.next\n",
    "            \n",
    "        self.데이터수 -= 1\n",
    "        return 마지막값\n",
    "    \n",
    "    \n",
    "    def find(self, data): \n",
    "        index = -1 #맨앞에 init노드가 있기 때문에 인덱스는 -1부터 시작하도록 설정\n",
    "        현재노드 = self.head\n",
    "        \n",
    "        for i in range(self.데이터수+1):  # 데이터수에 +1 해주는 것도 마찬가지로 init node가 있기 때문이다.\n",
    "            if 현재노드.data == data:\n",
    "                return index\n",
    "            index += 1\n",
    "            현재노드 = 현재노드.next\n",
    "            \n",
    "        return -1   # 만약에 값을 못찾으면 -1을 리턴해준다."
   ]
  },
  {
   "cell_type": "code",
   "execution_count": 2,
   "id": "3b6c8c4b",
   "metadata": {},
   "outputs": [],
   "source": [
    "l = LinkedList()\n",
    "l.append(10)\n",
    "l.append(20)\n",
    "l.append(30)\n",
    "l.append(40)\n",
    "l.append(50)\n",
    "l.append(15)"
   ]
  },
  {
   "cell_type": "code",
   "execution_count": 3,
   "id": "54cbffba",
   "metadata": {},
   "outputs": [
    {
     "data": {
      "text/plain": [
       "30"
      ]
     },
     "execution_count": 3,
     "metadata": {},
     "output_type": "execute_result"
    }
   ],
   "source": [
    "l.head.data\n",
    "l.head.next.data\n",
    "l.head.next.next.data\n",
    "l.head.next.next.next.data"
   ]
  },
  {
   "cell_type": "code",
   "execution_count": 4,
   "id": "b81ce3a5",
   "metadata": {},
   "outputs": [
    {
     "data": {
      "text/plain": [
       "6"
      ]
     },
     "execution_count": 4,
     "metadata": {},
     "output_type": "execute_result"
    }
   ],
   "source": [
    "l.head.data\n",
    "l.tail.data\n",
    "l.데이터수"
   ]
  },
  {
   "cell_type": "code",
   "execution_count": 5,
   "id": "b85a0345",
   "metadata": {},
   "outputs": [
    {
     "data": {
      "text/plain": [
       "6"
      ]
     },
     "execution_count": 5,
     "metadata": {},
     "output_type": "execute_result"
    }
   ],
   "source": [
    "len(l) #이 메소드를 그냥 실행하면 type에러가 난다. 위에 매직메소드로 __len__을 구현"
   ]
  },
  {
   "cell_type": "code",
   "execution_count": 6,
   "id": "ff786c2c",
   "metadata": {},
   "outputs": [
    {
     "name": "stdout",
     "output_type": "stream",
     "text": [
      "[10, 20, 30, 40, 50, 15]\n"
     ]
    }
   ],
   "source": [
    "print(l)"
   ]
  },
  {
   "cell_type": "code",
   "execution_count": 7,
   "id": "fa421a67",
   "metadata": {},
   "outputs": [
    {
     "data": {
      "text/plain": [
       "15"
      ]
     },
     "execution_count": 7,
     "metadata": {},
     "output_type": "execute_result"
    }
   ],
   "source": [
    "l.pop()"
   ]
  },
  {
   "cell_type": "code",
   "execution_count": 8,
   "id": "d618be53",
   "metadata": {},
   "outputs": [
    {
     "name": "stdout",
     "output_type": "stream",
     "text": [
      "[10, 20, 30, 40, 50]\n"
     ]
    }
   ],
   "source": [
    "print(l)"
   ]
  },
  {
   "cell_type": "code",
   "execution_count": 9,
   "id": "608a1c4e",
   "metadata": {},
   "outputs": [
    {
     "data": {
      "text/plain": [
       "1"
      ]
     },
     "execution_count": 9,
     "metadata": {},
     "output_type": "execute_result"
    }
   ],
   "source": [
    "l.find(20)"
   ]
  },
  {
   "cell_type": "code",
   "execution_count": 10,
   "id": "4fe9ba10",
   "metadata": {},
   "outputs": [
    {
     "data": {
      "text/plain": [
       "-1"
      ]
     },
     "execution_count": 10,
     "metadata": {},
     "output_type": "execute_result"
    }
   ],
   "source": [
    "l.find(5)"
   ]
  },
  {
   "cell_type": "markdown",
   "id": "b3310a4e",
   "metadata": {},
   "source": [
    "### 기능개선 (iter, insert)"
   ]
  },
  {
   "cell_type": "code",
   "execution_count": 11,
   "id": "b15938af",
   "metadata": {},
   "outputs": [],
   "source": [
    "class Node:\n",
    "    def __init__(self, data):\n",
    "        self.data = data\n",
    "        self.next = None\n",
    "\n",
    "        \n",
    "class LinkedList:\n",
    "    def __init__(self):\n",
    "        init = Node('init')\n",
    "        self.head = init\n",
    "        self.tail = init\n",
    "        \n",
    "        self.현재노드 = None\n",
    "        self.데이터수 = 0\n",
    "    \n",
    "   \n",
    "    def __len__(self): # len(l)메소드를 사용하면 에러나는 것을 def__len__ 매직 메서드로 구현\n",
    "        return self.데이터수\n",
    "    \n",
    "    \n",
    "    def __str__(self):\n",
    "        \n",
    "        현재노드 = self.head\n",
    "        현재노드 = 현재노드.next\n",
    "        s = ''\n",
    "        for i in range(self.데이터수):\n",
    "            s += f'{현재노드.data}, '\n",
    "            현재노드 = 현재노드.next\n",
    "        return f'[{s[:-2]}]'\n",
    "    \n",
    "    def __iter__(self):\n",
    "        현재노드 = self.head\n",
    "        현재노드 = 현재노드.next  # init은 필요없기 때문에 현재노드.next를 미리 한번 해준다.\n",
    "        while 현재노드:\n",
    "            yield 현재노드.data\n",
    "            현재노드 = 현재노드.next\n",
    "     \n",
    "        \n",
    "    def append(self, data):\n",
    "        새로운노드 = Node(data)\n",
    "        self.tail.next = 새로운노드\n",
    "        self.tail = 새로운노드\n",
    "        self.데이터수 += 1\n",
    "        \n",
    "        \n",
    "    def insert(self, input_index, input_data):\n",
    "        현재노드 = self.head\n",
    "        \n",
    "        for i in range(input_index):\n",
    "            현재노드 = 현재노드.next\n",
    "            \n",
    "        신규노드 = Node(input_data)\n",
    "        신규노드.next = 현재노드.next\n",
    "        현재노드.next = 신규노드\n",
    "        \n",
    "        self.데이터수 += 1\n",
    "        \n",
    "        \n",
    "        \n",
    "    def pop(self):\n",
    "        마지막값 = self.tail.data\n",
    "        현재노드 = self.head\n",
    "        \n",
    "        for i in range(self.데이터수):\n",
    "            if 현재노드.next is self.tail:\n",
    "                self.tail = 현재노드\n",
    "                break \n",
    "            현재노드 = 현재노드.next\n",
    "            \n",
    "        self.데이터수 -= 1\n",
    "        return 마지막값\n",
    "    \n",
    "    \n",
    "    def find(self, data): \n",
    "        index = -1 #맨앞에 init노드가 있기 때문에 인덱스는 -1부터 시작하도록 설정\n",
    "        현재노드 = self.head\n",
    "        \n",
    "        for i in range(self.데이터수+1):  # 데이터수에 +1 해주는 것도 마찬가지로 init node가 있기 때문이다.\n",
    "            if 현재노드.data == data:\n",
    "                return index\n",
    "            index += 1\n",
    "            현재노드 = 현재노드.next\n",
    "            \n",
    "        return -1   # 만약에 값을 못찾으면 -1을 리턴해준다."
   ]
  },
  {
   "cell_type": "code",
   "execution_count": 12,
   "id": "59983f6e",
   "metadata": {},
   "outputs": [],
   "source": [
    "l = LinkedList()\n",
    "l.append(10)\n",
    "l.append(20)\n",
    "l.append(30)\n",
    "l.append(40)\n",
    "l.append(50)\n",
    "l.append(15)"
   ]
  },
  {
   "cell_type": "code",
   "execution_count": 13,
   "id": "5e8212f1",
   "metadata": {},
   "outputs": [
    {
     "name": "stdout",
     "output_type": "stream",
     "text": [
      "10\n",
      "20\n",
      "30\n",
      "40\n",
      "50\n",
      "15\n"
     ]
    }
   ],
   "source": [
    "for i in l:\n",
    "    print(i)"
   ]
  },
  {
   "cell_type": "code",
   "execution_count": 14,
   "id": "81278edf",
   "metadata": {},
   "outputs": [
    {
     "name": "stdout",
     "output_type": "stream",
     "text": [
      "[10, 20, 10000, 30, 40, 50, 15]\n"
     ]
    }
   ],
   "source": [
    "l.insert(2, 10000)\n",
    "print(l)"
   ]
  },
  {
   "cell_type": "code",
   "execution_count": 15,
   "id": "3c614cd1",
   "metadata": {},
   "outputs": [
    {
     "name": "stdout",
     "output_type": "stream",
     "text": [
      "[10, 20, 10000, 1000000, 30, 40, 50, 15]\n"
     ]
    }
   ],
   "source": [
    "l.insert(3, 1000000)\n",
    "print(l)"
   ]
  }
 ],
 "metadata": {
  "kernelspec": {
   "display_name": "Python 3",
   "language": "python",
   "name": "python3"
  },
  "language_info": {
   "codemirror_mode": {
    "name": "ipython",
    "version": 3
   },
   "file_extension": ".py",
   "mimetype": "text/x-python",
   "name": "python",
   "nbconvert_exporter": "python",
   "pygments_lexer": "ipython3",
   "version": "3.8.8"
  }
 },
 "nbformat": 4,
 "nbformat_minor": 5
}
