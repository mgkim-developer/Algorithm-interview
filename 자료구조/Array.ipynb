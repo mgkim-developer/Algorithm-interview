{
 "cells": [
  {
   "cell_type": "markdown",
   "id": "d45dc25f",
   "metadata": {},
   "source": [
    "# Array(배열)\n",
    "\n",
    "▶ 복잡한 자료구조의 기초\n",
    "\n",
    "▶ 원하는 데이터를 효율적으로 탐색/가져올 수 있음(인덱스)\n",
    "\n",
    "▶ 정렬에 용이함"
   ]
  },
  {
   "cell_type": "code",
   "execution_count": 1,
   "id": "606c539f",
   "metadata": {},
   "outputs": [
    {
     "name": "stdout",
     "output_type": "stream",
     "text": [
      "3\n",
      "W\n",
      "3\n"
     ]
    }
   ],
   "source": [
    "# 1차원 배열 = 리스트\n",
    "data = [1, 2, 3, 4, 5]\n",
    "str1 = 'Hello World'\n",
    "print(data[2]) # data에서 index번호 2인 \"3\" 출력\n",
    "print(str1[6]) # str1에서 index번호 6인 \"W\" 출력\n",
    "\n",
    "# 2차원 배열\n",
    "data2d = [[1, 2, 3], [4, 5, 6], [7, 8, 9]]\n",
    "print(data2d[0][2]) # data2d의 인덱스0의 인덱스2인 \"3\"이 출력"
   ]
  },
  {
   "cell_type": "markdown",
   "id": "637b9d22",
   "metadata": {},
   "source": [
    "### Array를 이용한 특정 알파벳의 빈도수 측정 함수"
   ]
  },
  {
   "cell_type": "code",
   "execution_count": 2,
   "id": "5a72ea21",
   "metadata": {},
   "outputs": [
    {
     "name": "stdout",
     "output_type": "stream",
     "text": [
      "2\n"
     ]
    }
   ],
   "source": [
    "def find_alphabet(dataset, alphabet):\n",
    "    count = 0\n",
    "    for data in dataset:\n",
    "        for i in range(len(data)):\n",
    "            if data[i] == alphabet:\n",
    "                count = count+1\n",
    "    print(count)\n",
    "\n",
    "k = ['a', 'b', 'd','a']\n",
    "find_alphabet(k, 'a')"
   ]
  }
 ],
 "metadata": {
  "kernelspec": {
   "display_name": "Python 3",
   "language": "python",
   "name": "python3"
  },
  "language_info": {
   "codemirror_mode": {
    "name": "ipython",
    "version": 3
   },
   "file_extension": ".py",
   "mimetype": "text/x-python",
   "name": "python",
   "nbconvert_exporter": "python",
   "pygments_lexer": "ipython3",
   "version": "3.8.8"
  }
 },
 "nbformat": 4,
 "nbformat_minor": 5
}
